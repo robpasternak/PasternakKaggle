{
  "cells": [
    {
      "cell_type": "code",
      "execution_count": 72,
      "metadata": {
        "id": "GdI_taKO578n",
        "outputId": "3f1e6d63-e782-44ee-ae74-861b1ec0b5ad",
        "colab": {
          "base_uri": "https://localhost:8080/"
        }
      },
      "outputs": [
        {
          "output_type": "stream",
          "name": "stdout",
          "text": [
            "[nltk_data] Downloading package stopwords to /root/nltk_data...\n",
            "[nltk_data]   Package stopwords is already up-to-date!\n",
            "[nltk_data] Downloading package punkt to /root/nltk_data...\n",
            "[nltk_data]   Package punkt is already up-to-date!\n",
            "[nltk_data] Downloading package wordnet to /root/nltk_data...\n",
            "[nltk_data]   Package wordnet is already up-to-date!\n"
          ]
        }
      ],
      "source": [
        "import pandas as pd\n",
        "import numpy as np\n",
        "import re\n",
        "\n",
        "import nltk\n",
        "nltk.download('stopwords')\n",
        "nltk.download('punkt')\n",
        "nltk.download('wordnet')\n",
        "\n",
        "from string import punctuation\n",
        "from nltk.corpus import stopwords\n",
        "from nltk.tokenize import word_tokenize\n",
        "from nltk.stem import WordNetLemmatizer\n",
        "\n",
        "from sklearn.feature_extraction.text import CountVectorizer\n",
        "from sklearn.feature_extraction.text import TfidfVectorizer\n",
        "from sklearn.preprocessing import FunctionTransformer\n",
        "\n",
        "from sklearn.model_selection import train_test_split\n",
        "from sklearn.model_selection import cross_validate\n",
        "from sklearn.model_selection import GridSearchCV\n",
        "\n",
        "from sklearn.neighbors import KNeighborsClassifier\n",
        "\n",
        "from sklearn.pipeline import Pipeline"
      ]
    },
    {
      "cell_type": "markdown",
      "metadata": {
        "id": "oYwiOnK_wIme"
      },
      "source": [
        "# Disaster Tweets"
      ]
    },
    {
      "cell_type": "markdown",
      "metadata": {
        "id": "6sbtrfWiwImh"
      },
      "source": [
        "This notebook is dedicated to solving Kaggle's [Natural Language Processing with Disaster Tweets](https://www.kaggle.com/c/nlp-getting-started/overview) challenge. This a **supervised binary classification** task in which the features are tweet information, and the target is a value of 1 if the tweet is about a real disaster, and 0 if not."
      ]
    },
    {
      "cell_type": "markdown",
      "metadata": {
        "id": "WNgCl97dwImk"
      },
      "source": [
        "## A first look at the data"
      ]
    },
    {
      "cell_type": "markdown",
      "metadata": {
        "id": "A43DVl477Tj1"
      },
      "source": [
        "First we import the training/validation data. I've stored these locally in my `raw_data` folder; they can be downloaded from Kaggle [here](https://www.kaggle.com/c/nlp-getting-started/data)."
      ]
    },
    {
      "cell_type": "code",
      "execution_count": 3,
      "metadata": {
        "id": "yvtrr5yL6ZO8"
      },
      "outputs": [],
      "source": [
        "train_data = pd.read_csv('raw_data/train.csv')\n",
        "test_data = pd.read_csv('raw_data/test.csv')\n",
        "sample_submission = pd.read_csv('raw_data/sample_submission.csv')"
      ]
    },
    {
      "cell_type": "code",
      "execution_count": 4,
      "metadata": {
        "colab": {
          "base_uri": "https://localhost:8080/"
        },
        "id": "YoeGMKvy7OHX",
        "outputId": "1167af50-1b63-416e-8d7e-2eb4f55fac2f"
      },
      "outputs": [
        {
          "output_type": "execute_result",
          "data": {
            "text/plain": [
              "(7613, 5)"
            ]
          },
          "metadata": {},
          "execution_count": 4
        }
      ],
      "source": [
        "train_data.shape"
      ]
    },
    {
      "cell_type": "code",
      "execution_count": 5,
      "metadata": {
        "colab": {
          "base_uri": "https://localhost:8080/",
          "height": 206
        },
        "id": "HcVUHKad7aoK",
        "outputId": "a8c73af2-8819-4cf9-da95-6148c93a3117",
        "scrolled": true
      },
      "outputs": [
        {
          "output_type": "execute_result",
          "data": {
            "text/plain": [
              "   id keyword location                                               text  \\\n",
              "0   1     NaN      NaN  Our Deeds are the Reason of this #earthquake M...   \n",
              "1   4     NaN      NaN             Forest fire near La Ronge Sask. Canada   \n",
              "2   5     NaN      NaN  All residents asked to 'shelter in place' are ...   \n",
              "3   6     NaN      NaN  13,000 people receive #wildfires evacuation or...   \n",
              "4   7     NaN      NaN  Just got sent this photo from Ruby #Alaska as ...   \n",
              "\n",
              "   target  \n",
              "0       1  \n",
              "1       1  \n",
              "2       1  \n",
              "3       1  \n",
              "4       1  "
            ],
            "text/html": [
              "\n",
              "  <div id=\"df-080513af-fd1e-46e9-aa8f-1371ec078eb7\">\n",
              "    <div class=\"colab-df-container\">\n",
              "      <div>\n",
              "<style scoped>\n",
              "    .dataframe tbody tr th:only-of-type {\n",
              "        vertical-align: middle;\n",
              "    }\n",
              "\n",
              "    .dataframe tbody tr th {\n",
              "        vertical-align: top;\n",
              "    }\n",
              "\n",
              "    .dataframe thead th {\n",
              "        text-align: right;\n",
              "    }\n",
              "</style>\n",
              "<table border=\"1\" class=\"dataframe\">\n",
              "  <thead>\n",
              "    <tr style=\"text-align: right;\">\n",
              "      <th></th>\n",
              "      <th>id</th>\n",
              "      <th>keyword</th>\n",
              "      <th>location</th>\n",
              "      <th>text</th>\n",
              "      <th>target</th>\n",
              "    </tr>\n",
              "  </thead>\n",
              "  <tbody>\n",
              "    <tr>\n",
              "      <th>0</th>\n",
              "      <td>1</td>\n",
              "      <td>NaN</td>\n",
              "      <td>NaN</td>\n",
              "      <td>Our Deeds are the Reason of this #earthquake M...</td>\n",
              "      <td>1</td>\n",
              "    </tr>\n",
              "    <tr>\n",
              "      <th>1</th>\n",
              "      <td>4</td>\n",
              "      <td>NaN</td>\n",
              "      <td>NaN</td>\n",
              "      <td>Forest fire near La Ronge Sask. Canada</td>\n",
              "      <td>1</td>\n",
              "    </tr>\n",
              "    <tr>\n",
              "      <th>2</th>\n",
              "      <td>5</td>\n",
              "      <td>NaN</td>\n",
              "      <td>NaN</td>\n",
              "      <td>All residents asked to 'shelter in place' are ...</td>\n",
              "      <td>1</td>\n",
              "    </tr>\n",
              "    <tr>\n",
              "      <th>3</th>\n",
              "      <td>6</td>\n",
              "      <td>NaN</td>\n",
              "      <td>NaN</td>\n",
              "      <td>13,000 people receive #wildfires evacuation or...</td>\n",
              "      <td>1</td>\n",
              "    </tr>\n",
              "    <tr>\n",
              "      <th>4</th>\n",
              "      <td>7</td>\n",
              "      <td>NaN</td>\n",
              "      <td>NaN</td>\n",
              "      <td>Just got sent this photo from Ruby #Alaska as ...</td>\n",
              "      <td>1</td>\n",
              "    </tr>\n",
              "  </tbody>\n",
              "</table>\n",
              "</div>\n",
              "      <button class=\"colab-df-convert\" onclick=\"convertToInteractive('df-080513af-fd1e-46e9-aa8f-1371ec078eb7')\"\n",
              "              title=\"Convert this dataframe to an interactive table.\"\n",
              "              style=\"display:none;\">\n",
              "        \n",
              "  <svg xmlns=\"http://www.w3.org/2000/svg\" height=\"24px\"viewBox=\"0 0 24 24\"\n",
              "       width=\"24px\">\n",
              "    <path d=\"M0 0h24v24H0V0z\" fill=\"none\"/>\n",
              "    <path d=\"M18.56 5.44l.94 2.06.94-2.06 2.06-.94-2.06-.94-.94-2.06-.94 2.06-2.06.94zm-11 1L8.5 8.5l.94-2.06 2.06-.94-2.06-.94L8.5 2.5l-.94 2.06-2.06.94zm10 10l.94 2.06.94-2.06 2.06-.94-2.06-.94-.94-2.06-.94 2.06-2.06.94z\"/><path d=\"M17.41 7.96l-1.37-1.37c-.4-.4-.92-.59-1.43-.59-.52 0-1.04.2-1.43.59L10.3 9.45l-7.72 7.72c-.78.78-.78 2.05 0 2.83L4 21.41c.39.39.9.59 1.41.59.51 0 1.02-.2 1.41-.59l7.78-7.78 2.81-2.81c.8-.78.8-2.07 0-2.86zM5.41 20L4 18.59l7.72-7.72 1.47 1.35L5.41 20z\"/>\n",
              "  </svg>\n",
              "      </button>\n",
              "      \n",
              "  <style>\n",
              "    .colab-df-container {\n",
              "      display:flex;\n",
              "      flex-wrap:wrap;\n",
              "      gap: 12px;\n",
              "    }\n",
              "\n",
              "    .colab-df-convert {\n",
              "      background-color: #E8F0FE;\n",
              "      border: none;\n",
              "      border-radius: 50%;\n",
              "      cursor: pointer;\n",
              "      display: none;\n",
              "      fill: #1967D2;\n",
              "      height: 32px;\n",
              "      padding: 0 0 0 0;\n",
              "      width: 32px;\n",
              "    }\n",
              "\n",
              "    .colab-df-convert:hover {\n",
              "      background-color: #E2EBFA;\n",
              "      box-shadow: 0px 1px 2px rgba(60, 64, 67, 0.3), 0px 1px 3px 1px rgba(60, 64, 67, 0.15);\n",
              "      fill: #174EA6;\n",
              "    }\n",
              "\n",
              "    [theme=dark] .colab-df-convert {\n",
              "      background-color: #3B4455;\n",
              "      fill: #D2E3FC;\n",
              "    }\n",
              "\n",
              "    [theme=dark] .colab-df-convert:hover {\n",
              "      background-color: #434B5C;\n",
              "      box-shadow: 0px 1px 3px 1px rgba(0, 0, 0, 0.15);\n",
              "      filter: drop-shadow(0px 1px 2px rgba(0, 0, 0, 0.3));\n",
              "      fill: #FFFFFF;\n",
              "    }\n",
              "  </style>\n",
              "\n",
              "      <script>\n",
              "        const buttonEl =\n",
              "          document.querySelector('#df-080513af-fd1e-46e9-aa8f-1371ec078eb7 button.colab-df-convert');\n",
              "        buttonEl.style.display =\n",
              "          google.colab.kernel.accessAllowed ? 'block' : 'none';\n",
              "\n",
              "        async function convertToInteractive(key) {\n",
              "          const element = document.querySelector('#df-080513af-fd1e-46e9-aa8f-1371ec078eb7');\n",
              "          const dataTable =\n",
              "            await google.colab.kernel.invokeFunction('convertToInteractive',\n",
              "                                                     [key], {});\n",
              "          if (!dataTable) return;\n",
              "\n",
              "          const docLinkHtml = 'Like what you see? Visit the ' +\n",
              "            '<a target=\"_blank\" href=https://colab.research.google.com/notebooks/data_table.ipynb>data table notebook</a>'\n",
              "            + ' to learn more about interactive tables.';\n",
              "          element.innerHTML = '';\n",
              "          dataTable['output_type'] = 'display_data';\n",
              "          await google.colab.output.renderOutput(dataTable, element);\n",
              "          const docLink = document.createElement('div');\n",
              "          docLink.innerHTML = docLinkHtml;\n",
              "          element.appendChild(docLink);\n",
              "        }\n",
              "      </script>\n",
              "    </div>\n",
              "  </div>\n",
              "  "
            ]
          },
          "metadata": {},
          "execution_count": 5
        }
      ],
      "source": [
        "train_data.head()"
      ]
    },
    {
      "cell_type": "code",
      "execution_count": 6,
      "metadata": {
        "id": "efKLbibkwImt",
        "outputId": "d22d1b7d-90d7-4151-968e-fedc01cf610f",
        "colab": {
          "base_uri": "https://localhost:8080/"
        }
      },
      "outputs": [
        {
          "output_type": "execute_result",
          "data": {
            "text/plain": [
              "0    4342\n",
              "1    3271\n",
              "Name: target, dtype: int64"
            ]
          },
          "metadata": {},
          "execution_count": 6
        }
      ],
      "source": [
        "train_data['target'].value_counts()"
      ]
    },
    {
      "cell_type": "markdown",
      "metadata": {
        "id": "JXMS79d9wImv"
      },
      "source": [
        "We'll divide the training data into a 70-30 train-validate split."
      ]
    },
    {
      "cell_type": "code",
      "execution_count": 7,
      "metadata": {
        "id": "8eOL967MwImw"
      },
      "outputs": [],
      "source": [
        "X_tv = train_data.drop(columns = ['target'])\n",
        "y_tv = train_data['target']\n",
        "\n",
        "X_train, X_val, y_train, y_val = train_test_split(X_tv, y_tv, test_size = .3, random_state = 42)"
      ]
    },
    {
      "cell_type": "code",
      "execution_count": 8,
      "metadata": {
        "id": "aF_F6y93wImx",
        "outputId": "e23d7368-ffe9-43f7-ae31-ba4845df3761",
        "colab": {
          "base_uri": "https://localhost:8080/"
        }
      },
      "outputs": [
        {
          "output_type": "execute_result",
          "data": {
            "text/plain": [
              "((5329, 4), (2284, 4), (5329,), (2284,))"
            ]
          },
          "metadata": {},
          "execution_count": 8
        }
      ],
      "source": [
        "X_train.shape, X_val.shape, y_train.shape, y_val.shape"
      ]
    },
    {
      "cell_type": "markdown",
      "metadata": {
        "id": "7bdK80vqwImy"
      },
      "source": [
        "## Bag-of-words models"
      ]
    },
    {
      "cell_type": "markdown",
      "source": [
        "### Defining functions for cleaning data"
      ],
      "metadata": {
        "id": "WaTVkjWpxl4v"
      }
    },
    {
      "cell_type": "markdown",
      "source": [
        "First we define a function `text_clean()` that cleans a given bit of text by removing stopwords, hyperlinks, and punctuation; renders the remaining text all lowercase; and lemmatizes this text (i.e., reduces each word to its root form)."
      ],
      "metadata": {
        "id": "8_deuJaixyxo"
      }
    },
    {
      "cell_type": "code",
      "execution_count": 9,
      "metadata": {
        "scrolled": true,
        "id": "mV7-nuOOwImz"
      },
      "outputs": [],
      "source": [
        "lemmatizer = WordNetLemmatizer()"
      ]
    },
    {
      "cell_type": "code",
      "execution_count": 17,
      "metadata": {
        "id": "lZ-tXBnHwIm0"
      },
      "outputs": [],
      "source": [
        "def text_clean(text):\n",
        "    out_text = text\n",
        "    stop_words = stopwords.words('english')\n",
        "    \n",
        "    # Remove hyperlinks\n",
        "    out_text = re.sub(r'http\\S+', '', out_text)\n",
        "    \n",
        "    # Remove punctuation\n",
        "    for punct in punctuation:\n",
        "        out_text = out_text.replace(punct, '')\n",
        "        \n",
        "    out_text = out_text.lower()\n",
        "    out_text_token = word_tokenize(out_text)\n",
        "    out_text_token = [lemmatizer.lemmatize(word) for word in out_text_token if word not in stop_words]\n",
        "    \n",
        "    out_text = ' '.join(out_text_token)\n",
        "    \n",
        "    return out_text"
      ]
    },
    {
      "cell_type": "code",
      "execution_count": 18,
      "metadata": {
        "scrolled": true,
        "id": "PHeMbRdZwIm1",
        "outputId": "a3417a35-c260-48b1-c172-87b6ad79a20b",
        "colab": {
          "base_uri": "https://localhost:8080/",
          "height": 206
        }
      },
      "outputs": [
        {
          "output_type": "execute_result",
          "data": {
            "text/plain": [
              "         id            keyword                location  \\\n",
              "1186   1707  bridge%20collapse                     NaN   \n",
              "4071   5789               hail  Carol Stream, Illinois   \n",
              "5461   7789             police                Houston    \n",
              "5787   8257            rioting                     NaN   \n",
              "7445  10656             wounds          Lake Highlands   \n",
              "\n",
              "                                                   text  \n",
              "1186  Ashes 2015: AustraliaÛªs collapse at Trent Br...  \n",
              "4071  GREAT MICHIGAN TECHNIQUE CAMP\\nB1G THANKS TO @...  \n",
              "5461  CNN: Tennessee movie theater shooting suspect ...  \n",
              "5787  Still rioting in a couple of hours left until ...  \n",
              "7445  Crack in the path where I wiped out this morni...  "
            ],
            "text/html": [
              "\n",
              "  <div id=\"df-ab794769-99c5-448d-9299-221eaf18ea29\">\n",
              "    <div class=\"colab-df-container\">\n",
              "      <div>\n",
              "<style scoped>\n",
              "    .dataframe tbody tr th:only-of-type {\n",
              "        vertical-align: middle;\n",
              "    }\n",
              "\n",
              "    .dataframe tbody tr th {\n",
              "        vertical-align: top;\n",
              "    }\n",
              "\n",
              "    .dataframe thead th {\n",
              "        text-align: right;\n",
              "    }\n",
              "</style>\n",
              "<table border=\"1\" class=\"dataframe\">\n",
              "  <thead>\n",
              "    <tr style=\"text-align: right;\">\n",
              "      <th></th>\n",
              "      <th>id</th>\n",
              "      <th>keyword</th>\n",
              "      <th>location</th>\n",
              "      <th>text</th>\n",
              "    </tr>\n",
              "  </thead>\n",
              "  <tbody>\n",
              "    <tr>\n",
              "      <th>1186</th>\n",
              "      <td>1707</td>\n",
              "      <td>bridge%20collapse</td>\n",
              "      <td>NaN</td>\n",
              "      <td>Ashes 2015: AustraliaÛªs collapse at Trent Br...</td>\n",
              "    </tr>\n",
              "    <tr>\n",
              "      <th>4071</th>\n",
              "      <td>5789</td>\n",
              "      <td>hail</td>\n",
              "      <td>Carol Stream, Illinois</td>\n",
              "      <td>GREAT MICHIGAN TECHNIQUE CAMP\\nB1G THANKS TO @...</td>\n",
              "    </tr>\n",
              "    <tr>\n",
              "      <th>5461</th>\n",
              "      <td>7789</td>\n",
              "      <td>police</td>\n",
              "      <td>Houston</td>\n",
              "      <td>CNN: Tennessee movie theater shooting suspect ...</td>\n",
              "    </tr>\n",
              "    <tr>\n",
              "      <th>5787</th>\n",
              "      <td>8257</td>\n",
              "      <td>rioting</td>\n",
              "      <td>NaN</td>\n",
              "      <td>Still rioting in a couple of hours left until ...</td>\n",
              "    </tr>\n",
              "    <tr>\n",
              "      <th>7445</th>\n",
              "      <td>10656</td>\n",
              "      <td>wounds</td>\n",
              "      <td>Lake Highlands</td>\n",
              "      <td>Crack in the path where I wiped out this morni...</td>\n",
              "    </tr>\n",
              "  </tbody>\n",
              "</table>\n",
              "</div>\n",
              "      <button class=\"colab-df-convert\" onclick=\"convertToInteractive('df-ab794769-99c5-448d-9299-221eaf18ea29')\"\n",
              "              title=\"Convert this dataframe to an interactive table.\"\n",
              "              style=\"display:none;\">\n",
              "        \n",
              "  <svg xmlns=\"http://www.w3.org/2000/svg\" height=\"24px\"viewBox=\"0 0 24 24\"\n",
              "       width=\"24px\">\n",
              "    <path d=\"M0 0h24v24H0V0z\" fill=\"none\"/>\n",
              "    <path d=\"M18.56 5.44l.94 2.06.94-2.06 2.06-.94-2.06-.94-.94-2.06-.94 2.06-2.06.94zm-11 1L8.5 8.5l.94-2.06 2.06-.94-2.06-.94L8.5 2.5l-.94 2.06-2.06.94zm10 10l.94 2.06.94-2.06 2.06-.94-2.06-.94-.94-2.06-.94 2.06-2.06.94z\"/><path d=\"M17.41 7.96l-1.37-1.37c-.4-.4-.92-.59-1.43-.59-.52 0-1.04.2-1.43.59L10.3 9.45l-7.72 7.72c-.78.78-.78 2.05 0 2.83L4 21.41c.39.39.9.59 1.41.59.51 0 1.02-.2 1.41-.59l7.78-7.78 2.81-2.81c.8-.78.8-2.07 0-2.86zM5.41 20L4 18.59l7.72-7.72 1.47 1.35L5.41 20z\"/>\n",
              "  </svg>\n",
              "      </button>\n",
              "      \n",
              "  <style>\n",
              "    .colab-df-container {\n",
              "      display:flex;\n",
              "      flex-wrap:wrap;\n",
              "      gap: 12px;\n",
              "    }\n",
              "\n",
              "    .colab-df-convert {\n",
              "      background-color: #E8F0FE;\n",
              "      border: none;\n",
              "      border-radius: 50%;\n",
              "      cursor: pointer;\n",
              "      display: none;\n",
              "      fill: #1967D2;\n",
              "      height: 32px;\n",
              "      padding: 0 0 0 0;\n",
              "      width: 32px;\n",
              "    }\n",
              "\n",
              "    .colab-df-convert:hover {\n",
              "      background-color: #E2EBFA;\n",
              "      box-shadow: 0px 1px 2px rgba(60, 64, 67, 0.3), 0px 1px 3px 1px rgba(60, 64, 67, 0.15);\n",
              "      fill: #174EA6;\n",
              "    }\n",
              "\n",
              "    [theme=dark] .colab-df-convert {\n",
              "      background-color: #3B4455;\n",
              "      fill: #D2E3FC;\n",
              "    }\n",
              "\n",
              "    [theme=dark] .colab-df-convert:hover {\n",
              "      background-color: #434B5C;\n",
              "      box-shadow: 0px 1px 3px 1px rgba(0, 0, 0, 0.15);\n",
              "      filter: drop-shadow(0px 1px 2px rgba(0, 0, 0, 0.3));\n",
              "      fill: #FFFFFF;\n",
              "    }\n",
              "  </style>\n",
              "\n",
              "      <script>\n",
              "        const buttonEl =\n",
              "          document.querySelector('#df-ab794769-99c5-448d-9299-221eaf18ea29 button.colab-df-convert');\n",
              "        buttonEl.style.display =\n",
              "          google.colab.kernel.accessAllowed ? 'block' : 'none';\n",
              "\n",
              "        async function convertToInteractive(key) {\n",
              "          const element = document.querySelector('#df-ab794769-99c5-448d-9299-221eaf18ea29');\n",
              "          const dataTable =\n",
              "            await google.colab.kernel.invokeFunction('convertToInteractive',\n",
              "                                                     [key], {});\n",
              "          if (!dataTable) return;\n",
              "\n",
              "          const docLinkHtml = 'Like what you see? Visit the ' +\n",
              "            '<a target=\"_blank\" href=https://colab.research.google.com/notebooks/data_table.ipynb>data table notebook</a>'\n",
              "            + ' to learn more about interactive tables.';\n",
              "          element.innerHTML = '';\n",
              "          dataTable['output_type'] = 'display_data';\n",
              "          await google.colab.output.renderOutput(dataTable, element);\n",
              "          const docLink = document.createElement('div');\n",
              "          docLink.innerHTML = docLinkHtml;\n",
              "          element.appendChild(docLink);\n",
              "        }\n",
              "      </script>\n",
              "    </div>\n",
              "  </div>\n",
              "  "
            ]
          },
          "metadata": {},
          "execution_count": 18
        }
      ],
      "source": [
        "X_train.head()"
      ]
    },
    {
      "cell_type": "code",
      "execution_count": 28,
      "metadata": {
        "scrolled": false,
        "id": "W8_SqlRhwIm2",
        "outputId": "bb00fdcd-4040-4978-cc0f-49902b6cf59d",
        "colab": {
          "base_uri": "https://localhost:8080/"
        }
      },
      "outputs": [
        {
          "output_type": "stream",
          "name": "stdout",
          "text": [
            "TEXT IN:\n",
            "Crack in the path where I wiped out this morning during beach run. Surface wounds on left elbow and right knee. http://t.co/yaqRSximph\n",
            "\n",
            "TEXT OUT:\n",
            "crack path wiped morning beach run surface wound left elbow right knee\n"
          ]
        }
      ],
      "source": [
        "print(f\"TEXT IN:\\n{X_train['text'][7445]}\\n\\nTEXT OUT:\\n{text_clean(X_train['text'][7445])}\")"
      ]
    },
    {
      "cell_type": "markdown",
      "source": [
        "Next we define a function `transform_func` that takes the feature dataset and transforms it in the following ways:\n",
        "\n",
        "1. It first removes all features but the text. (For the time being we will **only** make use of a tweet's text, leaving open the possibility that future developments will incorporate other features as well.)\n",
        "2. It applies the above `text_clean` function to all rows to clean the text data.\n",
        "\n",
        "`transform_func` will then be used as the first part of our bag-of-words machine learning pipeline."
      ],
      "metadata": {
        "id": "vu2YxNvc0JVq"
      }
    },
    {
      "cell_type": "code",
      "execution_count": 29,
      "metadata": {
        "id": "ng0Xn1ZtwIm3"
      },
      "outputs": [],
      "source": [
        "def transform_func(feature_data):\n",
        "    # Trim to just the text (feature_data['text']) and apply text_clean\n",
        "    return feature_data['text'].apply(text_clean)"
      ]
    },
    {
      "cell_type": "code",
      "source": [
        "print(transform_func(X_train))"
      ],
      "metadata": {
        "id": "aIrLKuoP5W1e",
        "outputId": "9271d7f3-f1c3-4caa-d1f3-3de61cc00e0b",
        "colab": {
          "base_uri": "https://localhost:8080/"
        }
      },
      "execution_count": 36,
      "outputs": [
        {
          "output_type": "stream",
          "name": "stdout",
          "text": [
            "1186    ash 2015 australiaûªs collapse trent bridge a...\n",
            "4071    great michigan technique camp b1g thanks bmurp...\n",
            "5461    cnn tennessee movie theater shooting suspect k...\n",
            "5787                 still rioting couple hour left class\n",
            "7445    crack path wiped morning beach run surface wou...\n",
            "                              ...                        \n",
            "5226    eganator2000 arent many obliteration server al...\n",
            "5390    panic attack bc dont enough money drug alcohol...\n",
            "860     omron hem712c automatic blood pressure monitor...\n",
            "7603    official say quarantine place alabama home pos...\n",
            "7270     moved england five year ago today whirlwind time\n",
            "Name: text, Length: 5329, dtype: object\n"
          ]
        }
      ]
    },
    {
      "cell_type": "markdown",
      "source": [
        "Finally, we create an `sklearn` `FunctionTransformer` called `text_clean_tran`. This essentially makes `transform_func` into something that can be integrated into an `sklearn` pipeline:"
      ],
      "metadata": {
        "id": "nTnwHWWG21YP"
      }
    },
    {
      "cell_type": "code",
      "source": [
        "text_clean_tran = FunctionTransformer(transform_func)"
      ],
      "metadata": {
        "id": "xJsoKTo53F0g"
      },
      "execution_count": 30,
      "outputs": []
    },
    {
      "cell_type": "markdown",
      "source": [
        "### BOW Model \\#1: _K_-nearest neighbors"
      ],
      "metadata": {
        "id": "-NSSs3DT2Zvl"
      }
    },
    {
      "cell_type": "markdown",
      "source": [
        "The first model we will test will be a _k_-nearest neighbors model. First we build the basic pipeline. The pipeline will look as follows:\n",
        "\n",
        "1. Transform the data using `text_clean_tran`.\n",
        "2. Vectorize data using either a pure count vectorizer or TF-IDF (depending on results of cross-validation).\n",
        "3. Apply a _k_-nearest neighbors model (with number of neighbors and possible weighting determined by grid search).\n",
        "\n",
        "Let's start with a very basic _k_-nearest-neighbors pipeline, using a pure count vectorizer and `sklearn`'s default _k_-neighbors settings (5 neighbors, unweighted), and see how it does via cross-validation on the training data:"
      ],
      "metadata": {
        "id": "cFZNkdI12mTl"
      }
    },
    {
      "cell_type": "code",
      "source": [
        "knn_pipe = Pipeline([\n",
        "    ('text_cleaning', text_clean_tran),\n",
        "    ('vectorize', CountVectorizer()),\n",
        "    ('knn', KNeighborsClassifier())\n",
        "])"
      ],
      "metadata": {
        "id": "MVIX1a3p4Rjz"
      },
      "execution_count": 67,
      "outputs": []
    },
    {
      "cell_type": "markdown",
      "source": [
        "Now let's try a 5-fold cross-validation on the training data:"
      ],
      "metadata": {
        "id": "j1nxTnvY453B"
      }
    },
    {
      "cell_type": "code",
      "source": [
        "knn_cv = cross_validate(estimator = knn_pipe, X = X_train, y = y_train, scoring = 'accuracy', cv = 5)\n",
        "print(f\"MEAN ACCURACY: {round(100 * knn_cv['test_score'].mean(), 1)}%\")"
      ],
      "metadata": {
        "id": "mMc6Q1Cr4qBA",
        "outputId": "8d9e0651-2907-4a39-b8ee-4169fb4c6248",
        "colab": {
          "base_uri": "https://localhost:8080/"
        }
      },
      "execution_count": 68,
      "outputs": [
        {
          "output_type": "stream",
          "name": "stdout",
          "text": [
            "MEAN ACCURACY: 67.3%\n"
          ]
        }
      ]
    },
    {
      "cell_type": "markdown",
      "source": [
        "Our mean accuracy in our cross-validation was about 67.3%. To give a sense of how good this is, if one were to just guess the most common target value in the training set--`0`, i.e., not an actual disaster--every time, one would obtain an accuracy upon cross-validation of about 56.7%:"
      ],
      "metadata": {
        "id": "jCAj8gFl6nNj"
      }
    },
    {
      "cell_type": "code",
      "source": [
        "y_train.value_counts()"
      ],
      "metadata": {
        "id": "iaK4qTvcAjCZ",
        "outputId": "9445f650-c91f-4aa3-bf49-d76189f87867",
        "colab": {
          "base_uri": "https://localhost:8080/"
        }
      },
      "execution_count": 58,
      "outputs": [
        {
          "output_type": "execute_result",
          "data": {
            "text/plain": [
              "0    3024\n",
              "1    2305\n",
              "Name: target, dtype: int64"
            ]
          },
          "metadata": {},
          "execution_count": 58
        }
      ]
    },
    {
      "cell_type": "code",
      "source": [
        "round(100 * max(y_train.value_counts()) / len(y_train), 1)"
      ],
      "metadata": {
        "id": "7ck3hKhw6x6s",
        "outputId": "62a029d5-93f1-4c65-939f-ec8a54a3377b",
        "colab": {
          "base_uri": "https://localhost:8080/"
        }
      },
      "execution_count": 54,
      "outputs": [
        {
          "output_type": "execute_result",
          "data": {
            "text/plain": [
              "56.7"
            ]
          },
          "metadata": {},
          "execution_count": 54
        }
      ]
    },
    {
      "cell_type": "markdown",
      "source": [
        "So even the most basic KNN model is a significant improvement on a naive model that just guesses \"No\" every time. But while 67.3% accuracy is nothing to shake a stick at, we'd of course like to improve upon this as much as possible.\n",
        "\n"
      ],
      "metadata": {
        "id": "LYMvLHoe78fv"
      }
    },
    {
      "cell_type": "code",
      "source": [
        "knn_params = {\n",
        "    'vectorize' : [CountVectorizer(), TfidfVectorizer()],\n",
        "    'knn__n_neighbors' : list(range(15,20)),\n",
        "    'knn__weights' : ['uniform', 'distance'],\n",
        "}"
      ],
      "metadata": {
        "id": "e1DwUaLgC2tj"
      },
      "execution_count": 93,
      "outputs": []
    },
    {
      "cell_type": "code",
      "source": [
        "knn_grid = GridSearchCV(estimator = knn_pipe, param_grid = knn_params, scoring = 'f1')"
      ],
      "metadata": {
        "id": "jj8tRlKjDQ_s"
      },
      "execution_count": 99,
      "outputs": []
    },
    {
      "cell_type": "code",
      "source": [
        "knn_grid.fit(X_train, y_train)"
      ],
      "metadata": {
        "id": "oc0tsRWtDpTh",
        "outputId": "269839e5-a20f-424b-96a7-76bb392dbcc5",
        "colab": {
          "base_uri": "https://localhost:8080/"
        }
      },
      "execution_count": 100,
      "outputs": [
        {
          "output_type": "execute_result",
          "data": {
            "text/plain": [
              "GridSearchCV(estimator=Pipeline(steps=[('text_cleaning',\n",
              "                                        FunctionTransformer(func=<function transform_func at 0x7fde925e7ef0>)),\n",
              "                                       ('vectorize', CountVectorizer()),\n",
              "                                       ('knn', KNeighborsClassifier())]),\n",
              "             param_grid={'knn__n_neighbors': [15, 16, 17, 18, 19],\n",
              "                         'knn__weights': ['uniform', 'distance'],\n",
              "                         'vectorize': [CountVectorizer(), TfidfVectorizer()]},\n",
              "             scoring='f1')"
            ]
          },
          "metadata": {},
          "execution_count": 100
        }
      ]
    },
    {
      "cell_type": "code",
      "source": [
        "knn_grid.best_params_"
      ],
      "metadata": {
        "id": "7NMj3l3aDt0Q",
        "outputId": "6b2dae91-1e75-4fc8-d449-e9ac4551f416",
        "colab": {
          "base_uri": "https://localhost:8080/"
        }
      },
      "execution_count": 101,
      "outputs": [
        {
          "output_type": "execute_result",
          "data": {
            "text/plain": [
              "{'knn__n_neighbors': 16,\n",
              " 'knn__weights': 'distance',\n",
              " 'vectorize': TfidfVectorizer()}"
            ]
          },
          "metadata": {},
          "execution_count": 101
        }
      ]
    },
    {
      "cell_type": "code",
      "source": [
        "knn_grid.best_score_"
      ],
      "metadata": {
        "id": "kQtBX375GU1K",
        "outputId": "838eb8f6-3fba-4baa-9018-45798cd6f3f1",
        "colab": {
          "base_uri": "https://localhost:8080/"
        }
      },
      "execution_count": 102,
      "outputs": [
        {
          "output_type": "execute_result",
          "data": {
            "text/plain": [
              "0.7262806011070915"
            ]
          },
          "metadata": {},
          "execution_count": 102
        }
      ]
    },
    {
      "cell_type": "code",
      "source": [
        "knn_final = Pipeline([\n",
        "    ('text_cleaning', text_clean_tran),\n",
        "    ('vectorize', TfidfVectorizer()),\n",
        "    ('knn', KNeighborsClassifier(n_neighbors = 16, weights = 'distance'))\n",
        "])"
      ],
      "metadata": {
        "id": "Nhaj3o3LHNV7"
      },
      "execution_count": 103,
      "outputs": []
    },
    {
      "cell_type": "code",
      "source": [
        "knn_final_cv = cross_validate(estimator = knn_final, X = X_train, y = y_train, scoring = ['f1', 'accuracy'], cv = 5)"
      ],
      "metadata": {
        "id": "oSr2HbDPJPAQ"
      },
      "execution_count": 104,
      "outputs": []
    },
    {
      "cell_type": "code",
      "source": [
        "print(f\"MEAN ACCURACY: {knn_final_cv['test_accuracy'].mean()}\\nMEAN F1: {knn_final_cv['test_f1'].mean()}\")"
      ],
      "metadata": {
        "id": "4utTTF1IKw8f",
        "outputId": "70de21bf-36ed-4579-dbcb-41c1ec01daef",
        "colab": {
          "base_uri": "https://localhost:8080/"
        }
      },
      "execution_count": 107,
      "outputs": [
        {
          "output_type": "stream",
          "name": "stdout",
          "text": [
            "MEAN ACCURACY: 0.7830748090796184\n",
            "MEAN F1: 0.7262806011070915\n"
          ]
        }
      ]
    },
    {
      "cell_type": "code",
      "source": [
        ""
      ],
      "metadata": {
        "id": "W_dCmikVLFOf"
      },
      "execution_count": null,
      "outputs": []
    }
  ],
  "metadata": {
    "colab": {
      "name": "DisasterTweets.ipynb",
      "provenance": []
    },
    "kernelspec": {
      "display_name": "Python 3 (ipykernel)",
      "language": "python",
      "name": "python3"
    },
    "language_info": {
      "codemirror_mode": {
        "name": "ipython",
        "version": 3
      },
      "file_extension": ".py",
      "mimetype": "text/x-python",
      "name": "python",
      "nbconvert_exporter": "python",
      "pygments_lexer": "ipython3",
      "version": "3.8.12"
    },
    "toc": {
      "base_numbering": 1,
      "nav_menu": {},
      "number_sections": true,
      "sideBar": true,
      "skip_h1_title": false,
      "title_cell": "Table of Contents",
      "title_sidebar": "Contents",
      "toc_cell": false,
      "toc_position": {},
      "toc_section_display": true,
      "toc_window_display": false
    },
    "accelerator": "GPU"
  },
  "nbformat": 4,
  "nbformat_minor": 0
}