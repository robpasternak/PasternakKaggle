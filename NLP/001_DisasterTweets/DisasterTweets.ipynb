{
  "cells": [
    {
      "cell_type": "code",
      "execution_count": 49,
      "metadata": {
        "id": "GdI_taKO578n",
        "outputId": "a566258b-390d-4b2e-d6c1-9c50cd7bfbe3",
        "colab": {
          "base_uri": "https://localhost:8080/"
        }
      },
      "outputs": [
        {
          "output_type": "stream",
          "name": "stdout",
          "text": [
            "[nltk_data] Downloading package stopwords to /root/nltk_data...\n",
            "[nltk_data]   Package stopwords is already up-to-date!\n",
            "[nltk_data] Downloading package punkt to /root/nltk_data...\n",
            "[nltk_data]   Package punkt is already up-to-date!\n",
            "[nltk_data] Downloading package wordnet to /root/nltk_data...\n",
            "[nltk_data]   Package wordnet is already up-to-date!\n"
          ]
        }
      ],
      "source": [
        "import pandas as pd\n",
        "import numpy as np\n",
        "import re\n",
        "\n",
        "import nltk\n",
        "nltk.download('stopwords')\n",
        "nltk.download('punkt')\n",
        "nltk.download('wordnet')\n",
        "\n",
        "from string import punctuation\n",
        "from nltk.corpus import stopwords\n",
        "from nltk.tokenize import word_tokenize\n",
        "from nltk.stem import WordNetLemmatizer\n",
        "\n",
        "from sklearn.feature_extraction.text import CountVectorizer\n",
        "from sklearn.feature_extraction.text import TfidfVectorizer\n",
        "from sklearn.preprocessing import FunctionTransformer\n",
        "\n",
        "from sklearn.model_selection import train_test_split\n",
        "from sklearn.model_selection import cross_validate\n",
        "from sklearn.model_selection import GridSearchCV\n",
        "\n",
        "from sklearn.metrics import f1_score\n",
        "\n",
        "from sklearn.neighbors import KNeighborsClassifier\n",
        "from sklearn.tree import DecisionTreeClassifier\n",
        "\n",
        "from sklearn.pipeline import Pipeline"
      ]
    },
    {
      "cell_type": "markdown",
      "metadata": {
        "id": "oYwiOnK_wIme"
      },
      "source": [
        "# Disaster Tweets"
      ]
    },
    {
      "cell_type": "markdown",
      "metadata": {
        "id": "6sbtrfWiwImh"
      },
      "source": [
        "This notebook is dedicated to solving Kaggle's [Natural Language Processing with Disaster Tweets](https://www.kaggle.com/c/nlp-getting-started/overview) challenge. This a **supervised binary classification** task in which the features are tweet information, and the target is a value of 1 if the tweet is about a real disaster, and 0 if not. As an exercise, **I will only be using the text of the tweets to make predictions.** This may affect accuracy, but the point of the exercise as far as we're concerned is to see how much can be gleaned exclusively from the text of the tweets."
      ]
    },
    {
      "cell_type": "markdown",
      "source": [
        "This notebook will eventually feature several different models, and thus runs the risk of being somewhat long. With this in mind, here at the top I will keep a running list of the models used along with the current best score of that model on Kaggle's test data. (Note that the evaluation metric for this challenge is the **F1 score, not accuracy**.) The models will be listed in descending order of highest-achieved F1 score.\n",
        "\n",
        "1. [_K_-nearest neighbors](#knn) (Bag of words): **0.79037**\n",
        "2. Decision Tree (Bag of words): **0.76616**\n"
      ],
      "metadata": {
        "id": "bDG3q0njxo7S"
      }
    },
    {
      "cell_type": "markdown",
      "metadata": {
        "id": "WNgCl97dwImk"
      },
      "source": [
        "## A first look at the data"
      ]
    },
    {
      "cell_type": "markdown",
      "metadata": {
        "id": "A43DVl477Tj1"
      },
      "source": [
        "First we import the training/validation data. I've stored these locally in my `raw_data` folder; they can be downloaded from Kaggle [here](https://www.kaggle.com/c/nlp-getting-started/data)."
      ]
    },
    {
      "cell_type": "code",
      "execution_count": 37,
      "metadata": {
        "id": "yvtrr5yL6ZO8"
      },
      "outputs": [],
      "source": [
        "train_data = pd.read_csv('raw_data/train.csv')\n",
        "X_test = pd.read_csv('raw_data/test.csv')\n",
        "sample_submission = pd.read_csv('raw_data/sample_submission.csv')"
      ]
    },
    {
      "cell_type": "code",
      "execution_count": 3,
      "metadata": {
        "colab": {
          "base_uri": "https://localhost:8080/"
        },
        "id": "YoeGMKvy7OHX",
        "outputId": "fee62bd4-d0d1-4b2c-8d4e-87f232fd9a1a"
      },
      "outputs": [
        {
          "output_type": "execute_result",
          "data": {
            "text/plain": [
              "(7613, 5)"
            ]
          },
          "metadata": {},
          "execution_count": 3
        }
      ],
      "source": [
        "train_data.shape"
      ]
    },
    {
      "cell_type": "code",
      "execution_count": 4,
      "metadata": {
        "colab": {
          "base_uri": "https://localhost:8080/",
          "height": 206
        },
        "id": "HcVUHKad7aoK",
        "outputId": "486105f4-75b9-456b-ece3-0e1f964e6707",
        "scrolled": true
      },
      "outputs": [
        {
          "output_type": "execute_result",
          "data": {
            "text/plain": [
              "   id keyword location                                               text  \\\n",
              "0   1     NaN      NaN  Our Deeds are the Reason of this #earthquake M...   \n",
              "1   4     NaN      NaN             Forest fire near La Ronge Sask. Canada   \n",
              "2   5     NaN      NaN  All residents asked to 'shelter in place' are ...   \n",
              "3   6     NaN      NaN  13,000 people receive #wildfires evacuation or...   \n",
              "4   7     NaN      NaN  Just got sent this photo from Ruby #Alaska as ...   \n",
              "\n",
              "   target  \n",
              "0       1  \n",
              "1       1  \n",
              "2       1  \n",
              "3       1  \n",
              "4       1  "
            ],
            "text/html": [
              "\n",
              "  <div id=\"df-519ed684-c52d-4b90-b4bf-6e0880f0362f\">\n",
              "    <div class=\"colab-df-container\">\n",
              "      <div>\n",
              "<style scoped>\n",
              "    .dataframe tbody tr th:only-of-type {\n",
              "        vertical-align: middle;\n",
              "    }\n",
              "\n",
              "    .dataframe tbody tr th {\n",
              "        vertical-align: top;\n",
              "    }\n",
              "\n",
              "    .dataframe thead th {\n",
              "        text-align: right;\n",
              "    }\n",
              "</style>\n",
              "<table border=\"1\" class=\"dataframe\">\n",
              "  <thead>\n",
              "    <tr style=\"text-align: right;\">\n",
              "      <th></th>\n",
              "      <th>id</th>\n",
              "      <th>keyword</th>\n",
              "      <th>location</th>\n",
              "      <th>text</th>\n",
              "      <th>target</th>\n",
              "    </tr>\n",
              "  </thead>\n",
              "  <tbody>\n",
              "    <tr>\n",
              "      <th>0</th>\n",
              "      <td>1</td>\n",
              "      <td>NaN</td>\n",
              "      <td>NaN</td>\n",
              "      <td>Our Deeds are the Reason of this #earthquake M...</td>\n",
              "      <td>1</td>\n",
              "    </tr>\n",
              "    <tr>\n",
              "      <th>1</th>\n",
              "      <td>4</td>\n",
              "      <td>NaN</td>\n",
              "      <td>NaN</td>\n",
              "      <td>Forest fire near La Ronge Sask. Canada</td>\n",
              "      <td>1</td>\n",
              "    </tr>\n",
              "    <tr>\n",
              "      <th>2</th>\n",
              "      <td>5</td>\n",
              "      <td>NaN</td>\n",
              "      <td>NaN</td>\n",
              "      <td>All residents asked to 'shelter in place' are ...</td>\n",
              "      <td>1</td>\n",
              "    </tr>\n",
              "    <tr>\n",
              "      <th>3</th>\n",
              "      <td>6</td>\n",
              "      <td>NaN</td>\n",
              "      <td>NaN</td>\n",
              "      <td>13,000 people receive #wildfires evacuation or...</td>\n",
              "      <td>1</td>\n",
              "    </tr>\n",
              "    <tr>\n",
              "      <th>4</th>\n",
              "      <td>7</td>\n",
              "      <td>NaN</td>\n",
              "      <td>NaN</td>\n",
              "      <td>Just got sent this photo from Ruby #Alaska as ...</td>\n",
              "      <td>1</td>\n",
              "    </tr>\n",
              "  </tbody>\n",
              "</table>\n",
              "</div>\n",
              "      <button class=\"colab-df-convert\" onclick=\"convertToInteractive('df-519ed684-c52d-4b90-b4bf-6e0880f0362f')\"\n",
              "              title=\"Convert this dataframe to an interactive table.\"\n",
              "              style=\"display:none;\">\n",
              "        \n",
              "  <svg xmlns=\"http://www.w3.org/2000/svg\" height=\"24px\"viewBox=\"0 0 24 24\"\n",
              "       width=\"24px\">\n",
              "    <path d=\"M0 0h24v24H0V0z\" fill=\"none\"/>\n",
              "    <path d=\"M18.56 5.44l.94 2.06.94-2.06 2.06-.94-2.06-.94-.94-2.06-.94 2.06-2.06.94zm-11 1L8.5 8.5l.94-2.06 2.06-.94-2.06-.94L8.5 2.5l-.94 2.06-2.06.94zm10 10l.94 2.06.94-2.06 2.06-.94-2.06-.94-.94-2.06-.94 2.06-2.06.94z\"/><path d=\"M17.41 7.96l-1.37-1.37c-.4-.4-.92-.59-1.43-.59-.52 0-1.04.2-1.43.59L10.3 9.45l-7.72 7.72c-.78.78-.78 2.05 0 2.83L4 21.41c.39.39.9.59 1.41.59.51 0 1.02-.2 1.41-.59l7.78-7.78 2.81-2.81c.8-.78.8-2.07 0-2.86zM5.41 20L4 18.59l7.72-7.72 1.47 1.35L5.41 20z\"/>\n",
              "  </svg>\n",
              "      </button>\n",
              "      \n",
              "  <style>\n",
              "    .colab-df-container {\n",
              "      display:flex;\n",
              "      flex-wrap:wrap;\n",
              "      gap: 12px;\n",
              "    }\n",
              "\n",
              "    .colab-df-convert {\n",
              "      background-color: #E8F0FE;\n",
              "      border: none;\n",
              "      border-radius: 50%;\n",
              "      cursor: pointer;\n",
              "      display: none;\n",
              "      fill: #1967D2;\n",
              "      height: 32px;\n",
              "      padding: 0 0 0 0;\n",
              "      width: 32px;\n",
              "    }\n",
              "\n",
              "    .colab-df-convert:hover {\n",
              "      background-color: #E2EBFA;\n",
              "      box-shadow: 0px 1px 2px rgba(60, 64, 67, 0.3), 0px 1px 3px 1px rgba(60, 64, 67, 0.15);\n",
              "      fill: #174EA6;\n",
              "    }\n",
              "\n",
              "    [theme=dark] .colab-df-convert {\n",
              "      background-color: #3B4455;\n",
              "      fill: #D2E3FC;\n",
              "    }\n",
              "\n",
              "    [theme=dark] .colab-df-convert:hover {\n",
              "      background-color: #434B5C;\n",
              "      box-shadow: 0px 1px 3px 1px rgba(0, 0, 0, 0.15);\n",
              "      filter: drop-shadow(0px 1px 2px rgba(0, 0, 0, 0.3));\n",
              "      fill: #FFFFFF;\n",
              "    }\n",
              "  </style>\n",
              "\n",
              "      <script>\n",
              "        const buttonEl =\n",
              "          document.querySelector('#df-519ed684-c52d-4b90-b4bf-6e0880f0362f button.colab-df-convert');\n",
              "        buttonEl.style.display =\n",
              "          google.colab.kernel.accessAllowed ? 'block' : 'none';\n",
              "\n",
              "        async function convertToInteractive(key) {\n",
              "          const element = document.querySelector('#df-519ed684-c52d-4b90-b4bf-6e0880f0362f');\n",
              "          const dataTable =\n",
              "            await google.colab.kernel.invokeFunction('convertToInteractive',\n",
              "                                                     [key], {});\n",
              "          if (!dataTable) return;\n",
              "\n",
              "          const docLinkHtml = 'Like what you see? Visit the ' +\n",
              "            '<a target=\"_blank\" href=https://colab.research.google.com/notebooks/data_table.ipynb>data table notebook</a>'\n",
              "            + ' to learn more about interactive tables.';\n",
              "          element.innerHTML = '';\n",
              "          dataTable['output_type'] = 'display_data';\n",
              "          await google.colab.output.renderOutput(dataTable, element);\n",
              "          const docLink = document.createElement('div');\n",
              "          docLink.innerHTML = docLinkHtml;\n",
              "          element.appendChild(docLink);\n",
              "        }\n",
              "      </script>\n",
              "    </div>\n",
              "  </div>\n",
              "  "
            ]
          },
          "metadata": {},
          "execution_count": 4
        }
      ],
      "source": [
        "train_data.head()"
      ]
    },
    {
      "cell_type": "code",
      "execution_count": 5,
      "metadata": {
        "id": "efKLbibkwImt",
        "outputId": "389d22fb-17e5-45f7-9341-914af1904f86",
        "colab": {
          "base_uri": "https://localhost:8080/"
        }
      },
      "outputs": [
        {
          "output_type": "execute_result",
          "data": {
            "text/plain": [
              "0    4342\n",
              "1    3271\n",
              "Name: target, dtype: int64"
            ]
          },
          "metadata": {},
          "execution_count": 5
        }
      ],
      "source": [
        "train_data['target'].value_counts()"
      ]
    },
    {
      "cell_type": "markdown",
      "metadata": {
        "id": "JXMS79d9wImv"
      },
      "source": [
        "We'll divide the training data into a 70-30 train-validate split."
      ]
    },
    {
      "cell_type": "code",
      "execution_count": 6,
      "metadata": {
        "id": "8eOL967MwImw"
      },
      "outputs": [],
      "source": [
        "X_tv = train_data.drop(columns = ['target'])\n",
        "y_tv = train_data['target']\n",
        "\n",
        "X_train, X_val, y_train, y_val = train_test_split(X_tv, y_tv, test_size = .3, random_state = 42)"
      ]
    },
    {
      "cell_type": "code",
      "execution_count": 7,
      "metadata": {
        "id": "aF_F6y93wImx",
        "outputId": "42936f2e-e2d1-49de-9bbc-b3fa318200ec",
        "colab": {
          "base_uri": "https://localhost:8080/"
        }
      },
      "outputs": [
        {
          "output_type": "execute_result",
          "data": {
            "text/plain": [
              "((5329, 4), (2284, 4), (5329,), (2284,))"
            ]
          },
          "metadata": {},
          "execution_count": 7
        }
      ],
      "source": [
        "X_train.shape, X_val.shape, y_train.shape, y_val.shape"
      ]
    },
    {
      "cell_type": "markdown",
      "metadata": {
        "id": "7bdK80vqwImy"
      },
      "source": [
        "## Bag-of-words models"
      ]
    },
    {
      "cell_type": "markdown",
      "source": [
        "### Defining functions for cleaning data"
      ],
      "metadata": {
        "id": "WaTVkjWpxl4v"
      }
    },
    {
      "cell_type": "markdown",
      "source": [
        "First we define a function `text_clean()` that cleans a given bit of text by removing stopwords, hyperlinks, and punctuation; renders the remaining text all lowercase; and lemmatizes this text (i.e., reduces each word to its root form)."
      ],
      "metadata": {
        "id": "8_deuJaixyxo"
      }
    },
    {
      "cell_type": "code",
      "execution_count": 8,
      "metadata": {
        "scrolled": true,
        "id": "mV7-nuOOwImz"
      },
      "outputs": [],
      "source": [
        "lemmatizer = WordNetLemmatizer()"
      ]
    },
    {
      "cell_type": "code",
      "execution_count": 9,
      "metadata": {
        "id": "lZ-tXBnHwIm0"
      },
      "outputs": [],
      "source": [
        "def text_clean(text):\n",
        "    out_text = text\n",
        "    stop_words = stopwords.words('english')\n",
        "    \n",
        "    # Remove hyperlinks\n",
        "    out_text = re.sub(r'http\\S+', '', out_text)\n",
        "    \n",
        "    # Remove punctuation\n",
        "    for punct in punctuation:\n",
        "        out_text = out_text.replace(punct, '')\n",
        "        \n",
        "    out_text = out_text.lower()\n",
        "    out_text_token = word_tokenize(out_text)\n",
        "    out_text_token = [lemmatizer.lemmatize(word) for word in out_text_token if word not in stop_words]\n",
        "    \n",
        "    out_text = ' '.join(out_text_token)\n",
        "    \n",
        "    return out_text"
      ]
    },
    {
      "cell_type": "code",
      "execution_count": 10,
      "metadata": {
        "scrolled": true,
        "id": "PHeMbRdZwIm1",
        "outputId": "f7dc20f0-1245-42ef-823b-edb49fb7ae74",
        "colab": {
          "base_uri": "https://localhost:8080/",
          "height": 206
        }
      },
      "outputs": [
        {
          "output_type": "execute_result",
          "data": {
            "text/plain": [
              "         id            keyword                location  \\\n",
              "1186   1707  bridge%20collapse                     NaN   \n",
              "4071   5789               hail  Carol Stream, Illinois   \n",
              "5461   7789             police                Houston    \n",
              "5787   8257            rioting                     NaN   \n",
              "7445  10656             wounds          Lake Highlands   \n",
              "\n",
              "                                                   text  \n",
              "1186  Ashes 2015: AustraliaÛªs collapse at Trent Br...  \n",
              "4071  GREAT MICHIGAN TECHNIQUE CAMP\\nB1G THANKS TO @...  \n",
              "5461  CNN: Tennessee movie theater shooting suspect ...  \n",
              "5787  Still rioting in a couple of hours left until ...  \n",
              "7445  Crack in the path where I wiped out this morni...  "
            ],
            "text/html": [
              "\n",
              "  <div id=\"df-7a6c8695-bce6-4e0d-a83b-043001066bb0\">\n",
              "    <div class=\"colab-df-container\">\n",
              "      <div>\n",
              "<style scoped>\n",
              "    .dataframe tbody tr th:only-of-type {\n",
              "        vertical-align: middle;\n",
              "    }\n",
              "\n",
              "    .dataframe tbody tr th {\n",
              "        vertical-align: top;\n",
              "    }\n",
              "\n",
              "    .dataframe thead th {\n",
              "        text-align: right;\n",
              "    }\n",
              "</style>\n",
              "<table border=\"1\" class=\"dataframe\">\n",
              "  <thead>\n",
              "    <tr style=\"text-align: right;\">\n",
              "      <th></th>\n",
              "      <th>id</th>\n",
              "      <th>keyword</th>\n",
              "      <th>location</th>\n",
              "      <th>text</th>\n",
              "    </tr>\n",
              "  </thead>\n",
              "  <tbody>\n",
              "    <tr>\n",
              "      <th>1186</th>\n",
              "      <td>1707</td>\n",
              "      <td>bridge%20collapse</td>\n",
              "      <td>NaN</td>\n",
              "      <td>Ashes 2015: AustraliaÛªs collapse at Trent Br...</td>\n",
              "    </tr>\n",
              "    <tr>\n",
              "      <th>4071</th>\n",
              "      <td>5789</td>\n",
              "      <td>hail</td>\n",
              "      <td>Carol Stream, Illinois</td>\n",
              "      <td>GREAT MICHIGAN TECHNIQUE CAMP\\nB1G THANKS TO @...</td>\n",
              "    </tr>\n",
              "    <tr>\n",
              "      <th>5461</th>\n",
              "      <td>7789</td>\n",
              "      <td>police</td>\n",
              "      <td>Houston</td>\n",
              "      <td>CNN: Tennessee movie theater shooting suspect ...</td>\n",
              "    </tr>\n",
              "    <tr>\n",
              "      <th>5787</th>\n",
              "      <td>8257</td>\n",
              "      <td>rioting</td>\n",
              "      <td>NaN</td>\n",
              "      <td>Still rioting in a couple of hours left until ...</td>\n",
              "    </tr>\n",
              "    <tr>\n",
              "      <th>7445</th>\n",
              "      <td>10656</td>\n",
              "      <td>wounds</td>\n",
              "      <td>Lake Highlands</td>\n",
              "      <td>Crack in the path where I wiped out this morni...</td>\n",
              "    </tr>\n",
              "  </tbody>\n",
              "</table>\n",
              "</div>\n",
              "      <button class=\"colab-df-convert\" onclick=\"convertToInteractive('df-7a6c8695-bce6-4e0d-a83b-043001066bb0')\"\n",
              "              title=\"Convert this dataframe to an interactive table.\"\n",
              "              style=\"display:none;\">\n",
              "        \n",
              "  <svg xmlns=\"http://www.w3.org/2000/svg\" height=\"24px\"viewBox=\"0 0 24 24\"\n",
              "       width=\"24px\">\n",
              "    <path d=\"M0 0h24v24H0V0z\" fill=\"none\"/>\n",
              "    <path d=\"M18.56 5.44l.94 2.06.94-2.06 2.06-.94-2.06-.94-.94-2.06-.94 2.06-2.06.94zm-11 1L8.5 8.5l.94-2.06 2.06-.94-2.06-.94L8.5 2.5l-.94 2.06-2.06.94zm10 10l.94 2.06.94-2.06 2.06-.94-2.06-.94-.94-2.06-.94 2.06-2.06.94z\"/><path d=\"M17.41 7.96l-1.37-1.37c-.4-.4-.92-.59-1.43-.59-.52 0-1.04.2-1.43.59L10.3 9.45l-7.72 7.72c-.78.78-.78 2.05 0 2.83L4 21.41c.39.39.9.59 1.41.59.51 0 1.02-.2 1.41-.59l7.78-7.78 2.81-2.81c.8-.78.8-2.07 0-2.86zM5.41 20L4 18.59l7.72-7.72 1.47 1.35L5.41 20z\"/>\n",
              "  </svg>\n",
              "      </button>\n",
              "      \n",
              "  <style>\n",
              "    .colab-df-container {\n",
              "      display:flex;\n",
              "      flex-wrap:wrap;\n",
              "      gap: 12px;\n",
              "    }\n",
              "\n",
              "    .colab-df-convert {\n",
              "      background-color: #E8F0FE;\n",
              "      border: none;\n",
              "      border-radius: 50%;\n",
              "      cursor: pointer;\n",
              "      display: none;\n",
              "      fill: #1967D2;\n",
              "      height: 32px;\n",
              "      padding: 0 0 0 0;\n",
              "      width: 32px;\n",
              "    }\n",
              "\n",
              "    .colab-df-convert:hover {\n",
              "      background-color: #E2EBFA;\n",
              "      box-shadow: 0px 1px 2px rgba(60, 64, 67, 0.3), 0px 1px 3px 1px rgba(60, 64, 67, 0.15);\n",
              "      fill: #174EA6;\n",
              "    }\n",
              "\n",
              "    [theme=dark] .colab-df-convert {\n",
              "      background-color: #3B4455;\n",
              "      fill: #D2E3FC;\n",
              "    }\n",
              "\n",
              "    [theme=dark] .colab-df-convert:hover {\n",
              "      background-color: #434B5C;\n",
              "      box-shadow: 0px 1px 3px 1px rgba(0, 0, 0, 0.15);\n",
              "      filter: drop-shadow(0px 1px 2px rgba(0, 0, 0, 0.3));\n",
              "      fill: #FFFFFF;\n",
              "    }\n",
              "  </style>\n",
              "\n",
              "      <script>\n",
              "        const buttonEl =\n",
              "          document.querySelector('#df-7a6c8695-bce6-4e0d-a83b-043001066bb0 button.colab-df-convert');\n",
              "        buttonEl.style.display =\n",
              "          google.colab.kernel.accessAllowed ? 'block' : 'none';\n",
              "\n",
              "        async function convertToInteractive(key) {\n",
              "          const element = document.querySelector('#df-7a6c8695-bce6-4e0d-a83b-043001066bb0');\n",
              "          const dataTable =\n",
              "            await google.colab.kernel.invokeFunction('convertToInteractive',\n",
              "                                                     [key], {});\n",
              "          if (!dataTable) return;\n",
              "\n",
              "          const docLinkHtml = 'Like what you see? Visit the ' +\n",
              "            '<a target=\"_blank\" href=https://colab.research.google.com/notebooks/data_table.ipynb>data table notebook</a>'\n",
              "            + ' to learn more about interactive tables.';\n",
              "          element.innerHTML = '';\n",
              "          dataTable['output_type'] = 'display_data';\n",
              "          await google.colab.output.renderOutput(dataTable, element);\n",
              "          const docLink = document.createElement('div');\n",
              "          docLink.innerHTML = docLinkHtml;\n",
              "          element.appendChild(docLink);\n",
              "        }\n",
              "      </script>\n",
              "    </div>\n",
              "  </div>\n",
              "  "
            ]
          },
          "metadata": {},
          "execution_count": 10
        }
      ],
      "source": [
        "X_train.head()"
      ]
    },
    {
      "cell_type": "code",
      "execution_count": 11,
      "metadata": {
        "scrolled": false,
        "id": "W8_SqlRhwIm2",
        "outputId": "7e2b40f7-6bff-4c1d-be63-cda06ee04886",
        "colab": {
          "base_uri": "https://localhost:8080/"
        }
      },
      "outputs": [
        {
          "output_type": "stream",
          "name": "stdout",
          "text": [
            "TEXT IN:\n",
            "Crack in the path where I wiped out this morning during beach run. Surface wounds on left elbow and right knee. http://t.co/yaqRSximph\n",
            "\n",
            "TEXT OUT:\n",
            "crack path wiped morning beach run surface wound left elbow right knee\n"
          ]
        }
      ],
      "source": [
        "print(f\"TEXT IN:\\n{X_train['text'][7445]}\\n\\nTEXT OUT:\\n{text_clean(X_train['text'][7445])}\")"
      ]
    },
    {
      "cell_type": "markdown",
      "source": [
        "Next we define a function `transform_func` that takes the feature dataset and transforms it in the following ways:\n",
        "\n",
        "1. It first removes all features but the text. (For the time being we will **only** make use of a tweet's text, leaving open the possibility that future developments will incorporate other features as well.)\n",
        "2. It applies the above `text_clean` function to all rows to clean the text data.\n",
        "\n",
        "`transform_func` will then be used as the first part of our bag-of-words machine learning pipeline."
      ],
      "metadata": {
        "id": "vu2YxNvc0JVq"
      }
    },
    {
      "cell_type": "code",
      "execution_count": 12,
      "metadata": {
        "id": "ng0Xn1ZtwIm3"
      },
      "outputs": [],
      "source": [
        "def transform_func(feature_data):\n",
        "    # Trim to just the text (feature_data['text']) and apply text_clean\n",
        "    return feature_data['text'].apply(text_clean)"
      ]
    },
    {
      "cell_type": "markdown",
      "source": [
        "Finally, we create an `sklearn` `FunctionTransformer` called `text_clean_tran`. This essentially makes `transform_func` into something that can be integrated into an `sklearn` pipeline:"
      ],
      "metadata": {
        "id": "nTnwHWWG21YP"
      }
    },
    {
      "cell_type": "code",
      "source": [
        "text_clean_tran = FunctionTransformer(transform_func)"
      ],
      "metadata": {
        "id": "xJsoKTo53F0g"
      },
      "execution_count": 13,
      "outputs": []
    },
    {
      "cell_type": "markdown",
      "source": [
        "### BOW Model 1: _K_-nearest neighbors <a id = 'knn'></a>"
      ],
      "metadata": {
        "id": "-NSSs3DT2Zvl"
      }
    },
    {
      "cell_type": "markdown",
      "source": [
        "The first model we will test will be a _k_-nearest neighbors model. First we build the basic pipeline. The pipeline will look as follows:\n",
        "\n",
        "1. Transform the data using `text_clean_tran`.\n",
        "2. Vectorize data using either a pure count vectorizer or TF-IDF (depending on results of cross-validation).\n",
        "3. Apply a _k_-nearest neighbors model (with number of neighbors and possible weighting determined by grid search).\n",
        "\n",
        "Let's start with a very basic _k_-nearest-neighbors pipeline, using a pure count vectorizer and `sklearn`'s default _k_-neighbors settings (5 neighbors, unweighted), and see how it does via cross-validation on the training data:"
      ],
      "metadata": {
        "id": "cFZNkdI12mTl"
      }
    },
    {
      "cell_type": "code",
      "source": [
        "knn_pipe = Pipeline([\n",
        "    ('text_cleaning', text_clean_tran),\n",
        "    ('vectorize', CountVectorizer()),\n",
        "    ('knn', KNeighborsClassifier())\n",
        "])"
      ],
      "metadata": {
        "id": "MVIX1a3p4Rjz"
      },
      "execution_count": 53,
      "outputs": []
    },
    {
      "cell_type": "markdown",
      "source": [
        "Now let's try a 5-fold cross-validation on the training data. Note that we really care about the F1 score instead of accuracy, since the evaluation for the Kaggle challenge is based on F1 score. However, I'll provide both."
      ],
      "metadata": {
        "id": "j1nxTnvY453B"
      }
    },
    {
      "cell_type": "code",
      "source": [
        "knn_cv = cross_validate(estimator = knn_pipe, X = X_train, y = y_train, scoring = ['f1', 'accuracy'], cv = 5)\n",
        "print(f\"MEAN F1: {round(knn_cv['test_f1'].mean(), 4)}\")\n",
        "print(f\"MEAN ACCURACY: {round(knn_cv['test_accuracy'].mean(), 4)}\")"
      ],
      "metadata": {
        "id": "mMc6Q1Cr4qBA",
        "outputId": "7453d96a-9b45-4701-c09b-0b5b8ed2cb9d",
        "colab": {
          "base_uri": "https://localhost:8080/"
        }
      },
      "execution_count": 60,
      "outputs": [
        {
          "output_type": "stream",
          "name": "stdout",
          "text": [
            "MEAN F1: 0.4211\n",
            "MEAN ACCURACY: 0.6731\n"
          ]
        }
      ]
    },
    {
      "cell_type": "markdown",
      "source": [
        "So on our most basic _k_-neighbors model, we achieve an F1 of about 0.42. To see how much we can improve on that, we will grid search to find the best hyperparameters.\n",
        "\n",
        "Note that for reasons of runtime, the grid search below is only the last in a series of grid searches that I performed, testing a variety of ranges for the number of neighbors in our _k_-neighbors model.\n",
        "\n"
      ],
      "metadata": {
        "id": "LYMvLHoe78fv"
      }
    },
    {
      "cell_type": "code",
      "source": [
        "knn_params = {\n",
        "    'vectorize' : [CountVectorizer(), TfidfVectorizer()],\n",
        "    'knn__n_neighbors' : list(range(15,20)),\n",
        "    'knn__weights' : ['uniform', 'distance'],\n",
        "}"
      ],
      "metadata": {
        "id": "e1DwUaLgC2tj"
      },
      "execution_count": 18,
      "outputs": []
    },
    {
      "cell_type": "code",
      "source": [
        "knn_grid = GridSearchCV(estimator = knn_pipe, param_grid = knn_params, scoring = 'f1')"
      ],
      "metadata": {
        "id": "jj8tRlKjDQ_s"
      },
      "execution_count": 19,
      "outputs": []
    },
    {
      "cell_type": "code",
      "source": [
        "knn_grid.fit(X_train, y_train)"
      ],
      "metadata": {
        "id": "oc0tsRWtDpTh",
        "outputId": "25ccfe81-50e6-4c38-f07e-a0feeee79004",
        "colab": {
          "base_uri": "https://localhost:8080/"
        }
      },
      "execution_count": 20,
      "outputs": [
        {
          "output_type": "execute_result",
          "data": {
            "text/plain": [
              "GridSearchCV(estimator=Pipeline(steps=[('text_cleaning',\n",
              "                                        FunctionTransformer(func=<function transform_func at 0x7f0424fcb4d0>)),\n",
              "                                       ('vectorize', CountVectorizer()),\n",
              "                                       ('knn', KNeighborsClassifier())]),\n",
              "             param_grid={'knn__n_neighbors': [15, 16, 17, 18, 19],\n",
              "                         'knn__weights': ['uniform', 'distance'],\n",
              "                         'vectorize': [CountVectorizer(), TfidfVectorizer()]},\n",
              "             scoring='f1')"
            ]
          },
          "metadata": {},
          "execution_count": 20
        }
      ]
    },
    {
      "cell_type": "code",
      "source": [
        "print(f'BEST SCORE (F1): {round(knn_grid.best_score_, 3)}')\n",
        "print(f'BEST VECTORIZATION METHOD : {knn_grid.best_params_[\"vectorize\"]}')\n",
        "print(f'BEST NUMBER OF NEIGHBORS: {knn_grid.best_params_[\"knn__n_neighbors\"]}')\n",
        "print(f'BEST WEIGHTING (UNIFORM VS. DISTANCE) : {knn_grid.best_params_[\"knn__weights\"]}')"
      ],
      "metadata": {
        "id": "7NMj3l3aDt0Q",
        "outputId": "cbb12f22-9dcd-4ffd-8dae-a26b1a98ee59",
        "colab": {
          "base_uri": "https://localhost:8080/"
        }
      },
      "execution_count": 23,
      "outputs": [
        {
          "output_type": "stream",
          "name": "stdout",
          "text": [
            "BEST SCORE (F1): 0.726\n",
            "BEST VECTORIZATION METHOD : TfidfVectorizer()\n",
            "BEST NUMBER OF NEIGHBORS: 16\n",
            "BEST WEIGHTING (UNIFORM VS. DISTANCE) : distance\n"
          ]
        }
      ]
    },
    {
      "cell_type": "markdown",
      "source": [
        "In plain English, the best settings of hyperparameters seem to be:\n",
        "1. The data are vectorized via **TF-IDF**.\n",
        "2. The **16** nearest neighbors vote on classification.\n",
        "3. The neighbors' votes are **weighted by distance**, so that closer neighbors have a greater say in determining the classification of the data point."
      ],
      "metadata": {
        "id": "Tfug5lyipHb8"
      }
    },
    {
      "cell_type": "markdown",
      "source": [
        "Now to properly test this model, we create a new pipeline `knn_final` with these hyperparameter settings, train it on the training data (`X_train`, `y_train`), and test it on the validation data (`X_val`, `y_val`)."
      ],
      "metadata": {
        "id": "FCVUMwZ7qiAb"
      }
    },
    {
      "cell_type": "code",
      "source": [
        "knn_final = Pipeline([\n",
        "    ('text_cleaning', text_clean_tran),\n",
        "    ('vectorize', TfidfVectorizer()),\n",
        "    ('knn', KNeighborsClassifier(n_neighbors = 16, weights = 'distance'))\n",
        "])"
      ],
      "metadata": {
        "id": "Nhaj3o3LHNV7"
      },
      "execution_count": 24,
      "outputs": []
    },
    {
      "cell_type": "code",
      "source": [
        "knn_final.fit(X_train, y_train)"
      ],
      "metadata": {
        "id": "W_dCmikVLFOf",
        "outputId": "5c9b785a-f13c-494d-9943-0aa7135dbbec",
        "colab": {
          "base_uri": "https://localhost:8080/"
        }
      },
      "execution_count": 25,
      "outputs": [
        {
          "output_type": "execute_result",
          "data": {
            "text/plain": [
              "Pipeline(steps=[('text_cleaning',\n",
              "                 FunctionTransformer(func=<function transform_func at 0x7f0424fcb4d0>)),\n",
              "                ('vectorize', TfidfVectorizer()),\n",
              "                ('knn',\n",
              "                 KNeighborsClassifier(n_neighbors=16, weights='distance'))])"
            ]
          },
          "metadata": {},
          "execution_count": 25
        }
      ]
    },
    {
      "cell_type": "code",
      "source": [
        "y_val_pred = knn_final.predict(X_val)"
      ],
      "metadata": {
        "id": "5COBhBrErVHT"
      },
      "execution_count": 26,
      "outputs": []
    },
    {
      "cell_type": "code",
      "source": [
        "val_score = f1_score(y_true = y_val, y_pred = y_val_pred)\n",
        "val_score"
      ],
      "metadata": {
        "id": "Nn7Rh4UWrv47",
        "outputId": "47b11f97-c0ff-464f-efac-6d14695670cd",
        "colab": {
          "base_uri": "https://localhost:8080/"
        }
      },
      "execution_count": 28,
      "outputs": [
        {
          "output_type": "execute_result",
          "data": {
            "text/plain": [
              "0.7192393736017897"
            ]
          },
          "metadata": {},
          "execution_count": 28
        }
      ]
    },
    {
      "cell_type": "markdown",
      "source": [
        "So it turns out that this model gives us an F1 of about .72 for the validation set. By way of comparison, if we just guess 1 (\"This is a real disaster\") every time, we get an F1 of .59:"
      ],
      "metadata": {
        "id": "BcICuu9QsMtv"
      }
    },
    {
      "cell_type": "code",
      "source": [
        "f1_score(y_true = y_val, y_pred = np.ones(len(y_val), dtype = int))"
      ],
      "metadata": {
        "id": "H4XCPRrwsnw2",
        "outputId": "d258d87d-521d-4849-b812-e82acf588d2b",
        "colab": {
          "base_uri": "https://localhost:8080/"
        }
      },
      "execution_count": 35,
      "outputs": [
        {
          "output_type": "execute_result",
          "data": {
            "text/plain": [
              "0.5944615384615385"
            ]
          },
          "metadata": {},
          "execution_count": 35
        }
      ]
    },
    {
      "cell_type": "markdown",
      "source": [
        "Finally, we fit this model on the training and validation set together, in order to then run it on the test set:"
      ],
      "metadata": {
        "id": "77lTT-O9uRDW"
      }
    },
    {
      "cell_type": "code",
      "source": [
        "knn_final.fit(X_tv, y_tv)"
      ],
      "metadata": {
        "id": "WpO8zgK5uXLH",
        "outputId": "4a9331cb-1f48-4193-dcc4-54f15296aec0",
        "colab": {
          "base_uri": "https://localhost:8080/"
        }
      },
      "execution_count": 36,
      "outputs": [
        {
          "output_type": "execute_result",
          "data": {
            "text/plain": [
              "Pipeline(steps=[('text_cleaning',\n",
              "                 FunctionTransformer(func=<function transform_func at 0x7f0424fcb4d0>)),\n",
              "                ('vectorize', TfidfVectorizer()),\n",
              "                ('knn',\n",
              "                 KNeighborsClassifier(n_neighbors=16, weights='distance'))])"
            ]
          },
          "metadata": {},
          "execution_count": 36
        }
      ]
    },
    {
      "cell_type": "code",
      "source": [
        "knn_predictions = knn_final.predict(X_test)"
      ],
      "metadata": {
        "id": "_mY8eeWFubX3"
      },
      "execution_count": 38,
      "outputs": []
    },
    {
      "cell_type": "markdown",
      "source": [
        "We then make a data frame that fits Kaggle's required format, and ship that out as a .csv:"
      ],
      "metadata": {
        "id": "Lw0K1D-ew1YO"
      }
    },
    {
      "cell_type": "code",
      "source": [
        "knn_pred_df = pd.DataFrame({'id' : X_test['id'], 'target' : knn_predictions})\n",
        "knn_pred_df.head()"
      ],
      "metadata": {
        "id": "Q6vVYH2bu7GX",
        "outputId": "83b8f77c-1c15-4588-d8fa-3bddb0ea470b",
        "colab": {
          "base_uri": "https://localhost:8080/",
          "height": 206
        }
      },
      "execution_count": 46,
      "outputs": [
        {
          "output_type": "execute_result",
          "data": {
            "text/plain": [
              "   id  target\n",
              "0   0       1\n",
              "1   2       1\n",
              "2   3       1\n",
              "3   9       0\n",
              "4  11       1"
            ],
            "text/html": [
              "\n",
              "  <div id=\"df-d8f388a0-c184-4c29-8110-a0f70094cfb4\">\n",
              "    <div class=\"colab-df-container\">\n",
              "      <div>\n",
              "<style scoped>\n",
              "    .dataframe tbody tr th:only-of-type {\n",
              "        vertical-align: middle;\n",
              "    }\n",
              "\n",
              "    .dataframe tbody tr th {\n",
              "        vertical-align: top;\n",
              "    }\n",
              "\n",
              "    .dataframe thead th {\n",
              "        text-align: right;\n",
              "    }\n",
              "</style>\n",
              "<table border=\"1\" class=\"dataframe\">\n",
              "  <thead>\n",
              "    <tr style=\"text-align: right;\">\n",
              "      <th></th>\n",
              "      <th>id</th>\n",
              "      <th>target</th>\n",
              "    </tr>\n",
              "  </thead>\n",
              "  <tbody>\n",
              "    <tr>\n",
              "      <th>0</th>\n",
              "      <td>0</td>\n",
              "      <td>1</td>\n",
              "    </tr>\n",
              "    <tr>\n",
              "      <th>1</th>\n",
              "      <td>2</td>\n",
              "      <td>1</td>\n",
              "    </tr>\n",
              "    <tr>\n",
              "      <th>2</th>\n",
              "      <td>3</td>\n",
              "      <td>1</td>\n",
              "    </tr>\n",
              "    <tr>\n",
              "      <th>3</th>\n",
              "      <td>9</td>\n",
              "      <td>0</td>\n",
              "    </tr>\n",
              "    <tr>\n",
              "      <th>4</th>\n",
              "      <td>11</td>\n",
              "      <td>1</td>\n",
              "    </tr>\n",
              "  </tbody>\n",
              "</table>\n",
              "</div>\n",
              "      <button class=\"colab-df-convert\" onclick=\"convertToInteractive('df-d8f388a0-c184-4c29-8110-a0f70094cfb4')\"\n",
              "              title=\"Convert this dataframe to an interactive table.\"\n",
              "              style=\"display:none;\">\n",
              "        \n",
              "  <svg xmlns=\"http://www.w3.org/2000/svg\" height=\"24px\"viewBox=\"0 0 24 24\"\n",
              "       width=\"24px\">\n",
              "    <path d=\"M0 0h24v24H0V0z\" fill=\"none\"/>\n",
              "    <path d=\"M18.56 5.44l.94 2.06.94-2.06 2.06-.94-2.06-.94-.94-2.06-.94 2.06-2.06.94zm-11 1L8.5 8.5l.94-2.06 2.06-.94-2.06-.94L8.5 2.5l-.94 2.06-2.06.94zm10 10l.94 2.06.94-2.06 2.06-.94-2.06-.94-.94-2.06-.94 2.06-2.06.94z\"/><path d=\"M17.41 7.96l-1.37-1.37c-.4-.4-.92-.59-1.43-.59-.52 0-1.04.2-1.43.59L10.3 9.45l-7.72 7.72c-.78.78-.78 2.05 0 2.83L4 21.41c.39.39.9.59 1.41.59.51 0 1.02-.2 1.41-.59l7.78-7.78 2.81-2.81c.8-.78.8-2.07 0-2.86zM5.41 20L4 18.59l7.72-7.72 1.47 1.35L5.41 20z\"/>\n",
              "  </svg>\n",
              "      </button>\n",
              "      \n",
              "  <style>\n",
              "    .colab-df-container {\n",
              "      display:flex;\n",
              "      flex-wrap:wrap;\n",
              "      gap: 12px;\n",
              "    }\n",
              "\n",
              "    .colab-df-convert {\n",
              "      background-color: #E8F0FE;\n",
              "      border: none;\n",
              "      border-radius: 50%;\n",
              "      cursor: pointer;\n",
              "      display: none;\n",
              "      fill: #1967D2;\n",
              "      height: 32px;\n",
              "      padding: 0 0 0 0;\n",
              "      width: 32px;\n",
              "    }\n",
              "\n",
              "    .colab-df-convert:hover {\n",
              "      background-color: #E2EBFA;\n",
              "      box-shadow: 0px 1px 2px rgba(60, 64, 67, 0.3), 0px 1px 3px 1px rgba(60, 64, 67, 0.15);\n",
              "      fill: #174EA6;\n",
              "    }\n",
              "\n",
              "    [theme=dark] .colab-df-convert {\n",
              "      background-color: #3B4455;\n",
              "      fill: #D2E3FC;\n",
              "    }\n",
              "\n",
              "    [theme=dark] .colab-df-convert:hover {\n",
              "      background-color: #434B5C;\n",
              "      box-shadow: 0px 1px 3px 1px rgba(0, 0, 0, 0.15);\n",
              "      filter: drop-shadow(0px 1px 2px rgba(0, 0, 0, 0.3));\n",
              "      fill: #FFFFFF;\n",
              "    }\n",
              "  </style>\n",
              "\n",
              "      <script>\n",
              "        const buttonEl =\n",
              "          document.querySelector('#df-d8f388a0-c184-4c29-8110-a0f70094cfb4 button.colab-df-convert');\n",
              "        buttonEl.style.display =\n",
              "          google.colab.kernel.accessAllowed ? 'block' : 'none';\n",
              "\n",
              "        async function convertToInteractive(key) {\n",
              "          const element = document.querySelector('#df-d8f388a0-c184-4c29-8110-a0f70094cfb4');\n",
              "          const dataTable =\n",
              "            await google.colab.kernel.invokeFunction('convertToInteractive',\n",
              "                                                     [key], {});\n",
              "          if (!dataTable) return;\n",
              "\n",
              "          const docLinkHtml = 'Like what you see? Visit the ' +\n",
              "            '<a target=\"_blank\" href=https://colab.research.google.com/notebooks/data_table.ipynb>data table notebook</a>'\n",
              "            + ' to learn more about interactive tables.';\n",
              "          element.innerHTML = '';\n",
              "          dataTable['output_type'] = 'display_data';\n",
              "          await google.colab.output.renderOutput(dataTable, element);\n",
              "          const docLink = document.createElement('div');\n",
              "          docLink.innerHTML = docLinkHtml;\n",
              "          element.appendChild(docLink);\n",
              "        }\n",
              "      </script>\n",
              "    </div>\n",
              "  </div>\n",
              "  "
            ]
          },
          "metadata": {},
          "execution_count": 46
        }
      ]
    },
    {
      "cell_type": "code",
      "source": [
        "knn_pred_df.to_csv('knn_pred.csv', sep = ',', index = False)"
      ],
      "metadata": {
        "id": "DsNM5aNqvT7n"
      },
      "execution_count": 47,
      "outputs": []
    },
    {
      "cell_type": "markdown",
      "source": [
        "And according to Kaggle, this lands us with an F1 score of **0.79037**. Not bad!"
      ],
      "metadata": {
        "id": "InaA-DPRxJ8m"
      }
    },
    {
      "cell_type": "markdown",
      "source": [
        "### BOW Model 2: Decision Tree"
      ],
      "metadata": {
        "id": "5T4NqI5b4jgH"
      }
    },
    {
      "cell_type": "code",
      "source": [
        "tree_pipe = Pipeline([\n",
        "    ('text_cleaning', text_clean_tran),\n",
        "    ('vectorize', CountVectorizer()),\n",
        "    ('tree', DecisionTreeClassifier())\n",
        "])"
      ],
      "metadata": {
        "id": "UDdGVutB4oCT"
      },
      "execution_count": 50,
      "outputs": []
    },
    {
      "cell_type": "code",
      "source": [
        "tree_cv = cross_validate(estimator = tree_pipe, X = X_train, y = y_train, scoring = ['f1', 'accuracy'], cv = 5)\n",
        "print(f\"MEAN F1: {round(tree_cv['test_f1'].mean(), 4)}\")\n",
        "print(f\"MEAN ACCURACY: {round(tree_cv['test_accuracy'].mean(), 4)}\")"
      ],
      "metadata": {
        "id": "md8BQVku5Rkn",
        "outputId": "61946816-c267-4587-ee39-0e5d4081cdaf",
        "colab": {
          "base_uri": "https://localhost:8080/"
        }
      },
      "execution_count": 61,
      "outputs": [
        {
          "output_type": "stream",
          "name": "stdout",
          "text": [
            "MEAN F1: 0.713\n",
            "MEAN ACCURACY: 0.7553\n"
          ]
        }
      ]
    },
    {
      "cell_type": "code",
      "source": [
        "tree_pipe.get_params()"
      ],
      "metadata": {
        "id": "TuLjmrgv5ksT",
        "outputId": "bb2cacd5-38a4-4618-9cad-1b3f949e5d78",
        "colab": {
          "base_uri": "https://localhost:8080/"
        }
      },
      "execution_count": 64,
      "outputs": [
        {
          "output_type": "execute_result",
          "data": {
            "text/plain": [
              "{'memory': None,\n",
              " 'steps': [('text_cleaning',\n",
              "   FunctionTransformer(func=<function transform_func at 0x7f0424fcb4d0>)),\n",
              "  ('vectorize', CountVectorizer()),\n",
              "  ('tree', DecisionTreeClassifier())],\n",
              " 'text_cleaning': FunctionTransformer(func=<function transform_func at 0x7f0424fcb4d0>),\n",
              " 'text_cleaning__accept_sparse': False,\n",
              " 'text_cleaning__check_inverse': True,\n",
              " 'text_cleaning__func': <function __main__.transform_func>,\n",
              " 'text_cleaning__inv_kw_args': None,\n",
              " 'text_cleaning__inverse_func': None,\n",
              " 'text_cleaning__kw_args': None,\n",
              " 'text_cleaning__validate': False,\n",
              " 'tree': DecisionTreeClassifier(),\n",
              " 'tree__ccp_alpha': 0.0,\n",
              " 'tree__class_weight': None,\n",
              " 'tree__criterion': 'gini',\n",
              " 'tree__max_depth': None,\n",
              " 'tree__max_features': None,\n",
              " 'tree__max_leaf_nodes': None,\n",
              " 'tree__min_impurity_decrease': 0.0,\n",
              " 'tree__min_samples_leaf': 1,\n",
              " 'tree__min_samples_split': 2,\n",
              " 'tree__min_weight_fraction_leaf': 0.0,\n",
              " 'tree__random_state': None,\n",
              " 'tree__splitter': 'best',\n",
              " 'vectorize': CountVectorizer(),\n",
              " 'vectorize__analyzer': 'word',\n",
              " 'vectorize__binary': False,\n",
              " 'vectorize__decode_error': 'strict',\n",
              " 'vectorize__dtype': numpy.int64,\n",
              " 'vectorize__encoding': 'utf-8',\n",
              " 'vectorize__input': 'content',\n",
              " 'vectorize__lowercase': True,\n",
              " 'vectorize__max_df': 1.0,\n",
              " 'vectorize__max_features': None,\n",
              " 'vectorize__min_df': 1,\n",
              " 'vectorize__ngram_range': (1, 1),\n",
              " 'vectorize__preprocessor': None,\n",
              " 'vectorize__stop_words': None,\n",
              " 'vectorize__strip_accents': None,\n",
              " 'vectorize__token_pattern': '(?u)\\\\b\\\\w\\\\w+\\\\b',\n",
              " 'vectorize__tokenizer': None,\n",
              " 'vectorize__vocabulary': None,\n",
              " 'verbose': False}"
            ]
          },
          "metadata": {},
          "execution_count": 64
        }
      ]
    },
    {
      "cell_type": "code",
      "source": [
        "tree_params = {\n",
        "    'vectorize' : [CountVectorizer(), TfidfVectorizer()],\n",
        "    'tree__min_samples_split' : [2, 6, 10],\n",
        "}"
      ],
      "metadata": {
        "id": "6omMYJHO5tIj"
      },
      "execution_count": 65,
      "outputs": []
    },
    {
      "cell_type": "code",
      "source": [
        "tree_grid = GridSearchCV(estimator = tree_pipe, param_grid = tree_params, scoring = 'f1')"
      ],
      "metadata": {
        "id": "X9lWzmhW90EE"
      },
      "execution_count": 66,
      "outputs": []
    },
    {
      "cell_type": "code",
      "source": [
        "tree_grid.fit(X_train, y_train)"
      ],
      "metadata": {
        "id": "lI5Oczgo97dV",
        "outputId": "9202e3e2-3596-4b8a-b5ff-caba637fdb16",
        "colab": {
          "base_uri": "https://localhost:8080/"
        }
      },
      "execution_count": 67,
      "outputs": [
        {
          "output_type": "execute_result",
          "data": {
            "text/plain": [
              "GridSearchCV(estimator=Pipeline(steps=[('text_cleaning',\n",
              "                                        FunctionTransformer(func=<function transform_func at 0x7f0424fcb4d0>)),\n",
              "                                       ('vectorize', CountVectorizer()),\n",
              "                                       ('tree', DecisionTreeClassifier())]),\n",
              "             param_grid={'tree__min_samples_split': [2, 6, 10],\n",
              "                         'vectorize': [CountVectorizer(), TfidfVectorizer()]},\n",
              "             scoring='f1')"
            ]
          },
          "metadata": {},
          "execution_count": 67
        }
      ]
    },
    {
      "cell_type": "code",
      "source": [
        "print(f'BEST SCORE (F1): {round(tree_grid.best_score_, 3)}')\n",
        "print(f'BEST VECTORIZATION METHOD : {tree_grid.best_params_[\"vectorize\"]}')\n",
        "print(f'BEST MIN. SAMPLES TO SPLIT: {tree_grid.best_params_[\"tree__min_samples_split\"]}')"
      ],
      "metadata": {
        "id": "X3j1XATd-AIT",
        "outputId": "18bc3ce8-ed1c-411f-d89f-2614f8ed8fea",
        "colab": {
          "base_uri": "https://localhost:8080/"
        }
      },
      "execution_count": 68,
      "outputs": [
        {
          "output_type": "stream",
          "name": "stdout",
          "text": [
            "BEST SCORE (F1): 0.719\n",
            "BEST VECTORIZATION METHOD : CountVectorizer()\n",
            "BEST MIN. SAMPLES TO SPLIT: 6\n"
          ]
        }
      ]
    },
    {
      "cell_type": "code",
      "source": [
        "tree_final = Pipeline([\n",
        "    ('text_cleaning', text_clean_tran),\n",
        "    ('vectorize', CountVectorizer()),\n",
        "    ('tree', DecisionTreeClassifier(min_samples_split = 6))\n",
        "])"
      ],
      "metadata": {
        "id": "n_HY-7Cn-rpe"
      },
      "execution_count": 69,
      "outputs": []
    },
    {
      "cell_type": "code",
      "source": [
        "tree_final.fit(X_train, y_train)"
      ],
      "metadata": {
        "id": "Mf1XJis4-7sd",
        "outputId": "397b3453-ff48-45ab-c41e-9b320b87dd6b",
        "colab": {
          "base_uri": "https://localhost:8080/"
        }
      },
      "execution_count": 70,
      "outputs": [
        {
          "output_type": "execute_result",
          "data": {
            "text/plain": [
              "Pipeline(steps=[('text_cleaning',\n",
              "                 FunctionTransformer(func=<function transform_func at 0x7f0424fcb4d0>)),\n",
              "                ('vectorize', CountVectorizer()),\n",
              "                ('tree', DecisionTreeClassifier(min_samples_split=6))])"
            ]
          },
          "metadata": {},
          "execution_count": 70
        }
      ]
    },
    {
      "cell_type": "code",
      "source": [
        "y_val_pred = tree_final.predict(X_val)\n",
        "val_score = f1_score(y_true = y_val, y_pred = y_val_pred)\n",
        "val_score"
      ],
      "metadata": {
        "id": "1FSN1l0M-9gD",
        "outputId": "7ded9960-93d3-4b92-a494-6b0e89b58e84",
        "colab": {
          "base_uri": "https://localhost:8080/"
        }
      },
      "execution_count": 72,
      "outputs": [
        {
          "output_type": "execute_result",
          "data": {
            "text/plain": [
              "0.7061288632792039"
            ]
          },
          "metadata": {},
          "execution_count": 72
        }
      ]
    },
    {
      "cell_type": "code",
      "source": [
        "tree_final.fit(X_tv, y_tv)"
      ],
      "metadata": {
        "id": "cqARrgCv_Npz",
        "outputId": "faa8b8ec-7ff4-4cb5-8d5e-6528440de922",
        "colab": {
          "base_uri": "https://localhost:8080/"
        }
      },
      "execution_count": 73,
      "outputs": [
        {
          "output_type": "execute_result",
          "data": {
            "text/plain": [
              "Pipeline(steps=[('text_cleaning',\n",
              "                 FunctionTransformer(func=<function transform_func at 0x7f0424fcb4d0>)),\n",
              "                ('vectorize', CountVectorizer()),\n",
              "                ('tree', DecisionTreeClassifier(min_samples_split=6))])"
            ]
          },
          "metadata": {},
          "execution_count": 73
        }
      ]
    },
    {
      "cell_type": "code",
      "source": [
        "tree_predictions = tree_final.predict(X_test)"
      ],
      "metadata": {
        "id": "qyLcsPV8_T6z"
      },
      "execution_count": 74,
      "outputs": []
    },
    {
      "cell_type": "code",
      "source": [
        "tree_pred_df = pd.DataFrame({'id' : X_test['id'], 'target' : tree_predictions})\n",
        "tree_pred_df.to_csv('tree_pred.csv', sep = ',', index = False)"
      ],
      "metadata": {
        "id": "fSpgFxDu_ixT"
      },
      "execution_count": 75,
      "outputs": []
    },
    {
      "cell_type": "code",
      "source": [
        ""
      ],
      "metadata": {
        "id": "fliuYTrG_uNT"
      },
      "execution_count": null,
      "outputs": []
    }
  ],
  "metadata": {
    "colab": {
      "name": "DisasterTweets.ipynb",
      "provenance": []
    },
    "kernelspec": {
      "display_name": "Python 3 (ipykernel)",
      "language": "python",
      "name": "python3"
    },
    "language_info": {
      "codemirror_mode": {
        "name": "ipython",
        "version": 3
      },
      "file_extension": ".py",
      "mimetype": "text/x-python",
      "name": "python",
      "nbconvert_exporter": "python",
      "pygments_lexer": "ipython3",
      "version": "3.8.12"
    },
    "toc": {
      "base_numbering": 1,
      "nav_menu": {},
      "number_sections": true,
      "sideBar": true,
      "skip_h1_title": false,
      "title_cell": "Table of Contents",
      "title_sidebar": "Contents",
      "toc_cell": false,
      "toc_position": {},
      "toc_section_display": true,
      "toc_window_display": false
    },
    "accelerator": "GPU"
  },
  "nbformat": 4,
  "nbformat_minor": 0
}